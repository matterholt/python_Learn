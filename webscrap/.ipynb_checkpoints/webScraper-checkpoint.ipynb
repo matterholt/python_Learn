{
 "cells": [
  {
   "cell_type": "code",
   "execution_count": 4,
   "metadata": {},
   "outputs": [],
   "source": [
    "from requests import get \n",
    "from requests.exceptions import RequestException\n",
    "from contextlib import closing\n",
    "from bs4 import BeautifulSoup"
   ]
  },
  {
   "cell_type": "markdown",
   "metadata": {},
   "source": [
    "## Making web request"
   ]
  },
  {
   "cell_type": "code",
   "execution_count": 5,
   "metadata": {},
   "outputs": [],
   "source": [
    "def simple_get(url):\n",
    "    try:\n",
    "        with closing(get(url, stream = True)) as resp:\n",
    "            if is_good_response(resp):\n",
    "                return resp.content\n",
    "            else:\n",
    "                return None\n",
    "    except RequestException as e:\n",
    "        log_error('Error during requests to {0}: {1}' .format(url, str(e)))\n",
    "        return None\n",
    "\n",
    "def is_good_response(resp):\n",
    "    '''\n",
    "    returns true if the response seems to be HTML, False otherwise.\n",
    "    '''\n",
    "    content_type = resp.headers['Content-Type'].lower()\n",
    "    return (resp.status_code ==200\n",
    "           and content_type is not None\n",
    "           and content_type.find('html') > -1)\n",
    "    \n",
    "def log_error(e):\n",
    "    '''\n",
    "    It is always a good idea to log errors.\n",
    "    This function just prints them, but you can\n",
    "    make it do anything.\n",
    "    '''\n",
    "    print(e)"
   ]
  },
  {
   "cell_type": "code",
   "execution_count": 15,
   "metadata": {},
   "outputs": [],
   "source": [
    "web = \"https://www.epicurious.com/recipes/food/views/bourbon-and-brown-sugar-barbecue-sauce-359849\"\n",
    "raw_html = simple_get(web)\n",
    "soup = BeautifulSoup(raw_html, 'html.parser')"
   ]
  },
  {
   "cell_type": "code",
   "execution_count": 35,
   "metadata": {},
   "outputs": [
    {
     "name": "stdout",
     "output_type": "stream",
     "text": [
      "<li class=\"ingredient\" itemprop=\"ingredients\">1 cup ketchup</li>\n",
      "<li class=\"ingredient\" itemprop=\"ingredients\">1/2 cup bourbon</li>\n",
      "<li class=\"ingredient\" itemprop=\"ingredients\">3 tablespoons brown sugar</li>\n",
      "<li class=\"ingredient\" itemprop=\"ingredients\">3 tablespoons mild (light) molasses</li>\n",
      "<li class=\"ingredient\" itemprop=\"ingredients\">3 tablespoons apple cider vinegar</li>\n",
      "<li class=\"ingredient\" itemprop=\"ingredients\">2 tablespoons Worcestershire sauce</li>\n",
      "<li class=\"ingredient\" itemprop=\"ingredients\">1 tablespoon soy sauce</li>\n",
      "<li class=\"ingredient\" itemprop=\"ingredients\">1 tablespoon Dijon mustard</li>\n",
      "<li class=\"ingredient\" itemprop=\"ingredients\">11/2 teaspoons liquid smoke</li>\n",
      "<li class=\"ingredient\" itemprop=\"ingredients\">1 teaspoon onion powder</li>\n",
      "<li class=\"ingredient\" itemprop=\"ingredients\">1 teaspoon garlic powder</li>\n",
      "<li class=\"ingredient\" itemprop=\"ingredients\">1/2 teaspoon dried crushed red pepper</li>\n",
      "<li class=\"ingredient\" itemprop=\"ingredients\">1/2 teaspoon freshly ground black pepper</li>\n"
     ]
    }
   ],
   "source": [
    "ingredientsList = soup.find(class_='ingredients')\n",
    "ingredient = ingredientsList.find_all('li')\n",
    "ingredientLists =[]\n",
    "for stuff in ingredient:\n",
    "    print(stuff)\n",
    "    material = stuff.contents[0]\n",
    "    ingredientLists.append(material)"
   ]
  },
  {
   "cell_type": "code",
   "execution_count": 38,
   "metadata": {},
   "outputs": [
    {
     "data": {
      "text/plain": [
       "['1 cup ketchup',\n",
       " '1/2 cup bourbon',\n",
       " '3 tablespoons brown sugar',\n",
       " '3 tablespoons mild (light) molasses',\n",
       " '3 tablespoons apple cider vinegar',\n",
       " '2 tablespoons Worcestershire sauce',\n",
       " '1 tablespoon soy sauce',\n",
       " '1 tablespoon Dijon mustard',\n",
       " '11/2 teaspoons liquid smoke',\n",
       " '1 teaspoon onion powder',\n",
       " '1 teaspoon garlic powder',\n",
       " '1/2 teaspoon dried crushed red pepper',\n",
       " '1/2 teaspoon freshly ground black pepper']"
      ]
     },
     "execution_count": 38,
     "metadata": {},
     "output_type": "execute_result"
    }
   ],
   "source": [
    "ingredientLists"
   ]
  },
  {
   "cell_type": "code",
   "execution_count": 39,
   "metadata": {},
   "outputs": [],
   "source": [
    "import re"
   ]
  },
  {
   "cell_type": "code",
   "execution_count": 41,
   "metadata": {},
   "outputs": [],
   "source": [
    "# Goal is to get a pie graph of ingredients\n",
    "# get all ingredients the same measurement"
   ]
  },
  {
   "cell_type": "code",
   "execution_count": null,
   "metadata": {},
   "outputs": [],
   "source": [
    "\n",
    "def seperateMesurement (substance):\n",
    "    #patterns\n",
    "    cupPatt = r\"(\\d.+)cup.*\"\n",
    "    tablePatt = r\"(\\d.+)tablespoon.*\"\n",
    "    teaPatt = r\"(\\d.+)teaspoon.*\"\n",
    "    \n",
    "    "
   ]
  }
 ],
 "metadata": {
  "kernelspec": {
   "display_name": "Python 3",
   "language": "python",
   "name": "python3"
  },
  "language_info": {
   "codemirror_mode": {
    "name": "ipython",
    "version": 3
   },
   "file_extension": ".py",
   "mimetype": "text/x-python",
   "name": "python",
   "nbconvert_exporter": "python",
   "pygments_lexer": "ipython3",
   "version": "3.6.7"
  }
 },
 "nbformat": 4,
 "nbformat_minor": 2
}
